{
 "cells": [
  {
   "cell_type": "code",
   "execution_count": null,
   "id": "a0bb43ff-749c-4540-960e-4d86068bc9c2",
   "metadata": {},
   "outputs": [],
   "source": [
    "# Add in libraries\n",
    "import pandas as pd\n",
    "import yfinance as yf\n",
    "from yahoofinancials import YahooFinancials\n",
    "from pathlib import Path    # note you will need to tweak csv(Path) - I have csv in the same folder I created this file in\n",
    "import numpy as np # ?\n",
    "from numpy import nan\n",
    "\n"
   ]
  },
  {
   "cell_type": "code",
   "execution_count": null,
   "id": "342f6830-cb04-496d-9d6c-91d69eba0e3c",
   "metadata": {},
   "outputs": [],
   "source": [
    "# Read in ASX ticker csv, add .ax to tickers for Yahoo ASX data then list these ASX tickers\n",
    "asx_complete_df = pd.read_csv(Path('./Monash Classwork/master.csv'))\n",
    "asx_complete_df.loc[:,'asx_code'] = '.ax' \n",
    "asx_complete_df['Code_asx'] = asx_complete_df['Code'].str.cat(asx_complete_df['asx_code'])\n",
    "asx_tickers = asx_complete_df['Code_asx'].tolist()\n",
    "#print(asx_tickers)\n",
    "\n"
   ]
  },
  {
   "cell_type": "code",
   "execution_count": null,
   "id": "48fd3abf-a965-4e04-970c-512cb9c70475",
   "metadata": {},
   "outputs": [],
   "source": [
    "# Remove nan from asx tickers list via string() procedure\n",
    "asx_list = []\n",
    "for element in asx_tickers:\n",
    "    if str(element) != \"nan\":\n",
    "        asx_list.append(element)   # asx_list can be used to call entire csv from yfinance\n",
    "#print(asx_list)        \n",
    "\n"
   ]
  },
  {
   "cell_type": "code",
   "execution_count": null,
   "id": "0f70bacb-ad7b-482a-9c29-a115f40c44c0",
   "metadata": {},
   "outputs": [],
   "source": [
    "# Check Dataframe\n",
    "asx_complete_df.head()        \n",
    "\n"
   ]
  },
  {
   "cell_type": "code",
   "execution_count": null,
   "id": "5b7fdbfa-2c8d-4b31-bb5b-ff594eff3eac",
   "metadata": {},
   "outputs": [],
   "source": [
    "#First attempt at sorting by years growth\n",
    "sorted_asx = asx_complete_df.sort_values('1 Year', axis=0, ascending=False, inplace=False)\n",
    "sorted_asx.head(20)\n",
    "\n"
   ]
  },
  {
   "cell_type": "code",
   "execution_count": null,
   "id": "0ffc78f7-467e-44aa-8c5d-1f68c013f3ee",
   "metadata": {},
   "outputs": [],
   "source": [
    "# the following code is for getting data from YahooFinance"
   ]
  },
  {
   "cell_type": "code",
   "execution_count": null,
   "id": "94308b43-fb55-4a6e-873c-aca93d7d774c",
   "metadata": {},
   "outputs": [],
   "source": [
    "# Test getting 1 years data for 1 ticker and read dataframe\n",
    "ticker = yf.Ticker('CBA.ax')\n",
    "asx_one_df = ticker.history(period=\"1y\")\n",
    "asx_one_df.head()\n",
    "\n"
   ]
  },
  {
   "cell_type": "code",
   "execution_count": null,
   "id": "b990b8bb-2790-45a5-b911-63a53b3ef7ec",
   "metadata": {},
   "outputs": [],
   "source": [
    "# test getting 1 years data for multiple tickers and read Dataframe\n",
    "ticker = yf.Tickers(['CBA.AX','S32.AX'])\n",
    "asx_two_df = ticker.history(period=\"1y\")\n",
    "asx_two_df.head()\n",
    "\n"
   ]
  },
  {
   "cell_type": "code",
   "execution_count": null,
   "id": "d6cf89e7-e334-4fd5-8a08-cb7f6f637f0e",
   "metadata": {},
   "outputs": [],
   "source": [
    "# test a large list of 1 yrs data\n",
    "test_ten = ['BHP.ax','CBA.ax','CSL.ax','NAB.ax','WBC.ax','MQG.ax','ANZ.ax','WDS.ax','FMG.ax','WES.ax']\n",
    "\n",
    "ticker = yf.Tickers(test_ten)\n",
    "asx_ten_df = ticker.history(period=\"1y\")\n",
    "asx_ten_df.head()\n",
    "\n"
   ]
  },
  {
   "cell_type": "code",
   "execution_count": null,
   "id": "72028fdd-e149-497d-8830-3703e6610108",
   "metadata": {},
   "outputs": [],
   "source": [
    "# # Run entire dataframe for 1 years data   ## Warning it can take a minute\n",
    "# ticker = yf.Tickers(asx_list)\n",
    "# asx_all_df = ticker.history(period=\"1y\")\n",
    "# # asx_all_df = ticker.history(period=\"1y\").dropna()\n",
    "\n"
   ]
  }
 ],
 "metadata": {
  "kernelspec": {
   "display_name": "Python 3 (ipykernel)",
   "language": "python",
   "name": "python3"
  },
  "language_info": {
   "codemirror_mode": {
    "name": "ipython",
    "version": 3
   },
   "file_extension": ".py",
   "mimetype": "text/x-python",
   "name": "python",
   "nbconvert_exporter": "python",
   "pygments_lexer": "ipython3",
   "version": "3.7.13"
  }
 },
 "nbformat": 4,
 "nbformat_minor": 5
}
