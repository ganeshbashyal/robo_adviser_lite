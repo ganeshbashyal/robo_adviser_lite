{
 "cells": [
  {
   "cell_type": "code",
   "execution_count": null,
   "metadata": {},
   "outputs": [],
   "source": []
  },
  {
   "cell_type": "markdown",
   "metadata": {},
   "source": [
    "outline the scope and purpose of your project.\n",
    "\n",
    "ASX CSV Download from Market index (website)\n",
    "Select just Name, Sector, Ticker\n",
    "5 stocks\n",
    "historical data ( 5y) for each input ticker ( restrict to 5)\n",
    "Weight - 5 random runs ( Monte Carlo)\n",
    "Top 5 performing ASX Companies\n",
    "Top 5 performing sectors\n",
    "Send email with final report\n",
    "image.png\n",
    "9 categories of ASX companies from main link to be pulled ()\n",
    "\n",
    "---- Task Split ------\n",
    "Manpreet - Input from user as multi select streamlit option with all tickers on ASX\n",
    "Michael - Plots for selected tickers\n",
    "Adam - Run MonteCarlo sumulations with different weight combinations\n",
    "Garry - Get Data for all tickers for 1 year and then compare top 5 performing companies\n",
    "Ganesh - Get Data for all tickers, group by Sector and display top 5 performing sectors\n"
   ]
  },
  {
   "cell_type": "markdown",
   "metadata": {},
   "source": [
    "Streamlit as an interface for our portfolio analysis Project was a cool addition, that I really liked.\n",
    "\n",
    "My primary contribution was to get a years data from our chosen API and produce some graphs for the landing page.\n",
    "We had a Master data CSV that was sourced from MarketIndex which was a useful beginning but our API required some unique Ticker nametypes.\n",
    "To create a Ticker list I added some columns including 1 with .AX, joined columns iterated through a null checking process and appended to a master list.\n",
    "\n",
    "I progressively tested pulling API's using ever larger lists to check for issues and test timing then finally ran it for a full ASX list of 12 months data which took several minutes to complete\n",
    "\n",
    "Two of the big challenges with our chosen API was that it produced data in a multi-index format and the data was almost all produced as a string.\n",
    "1) Multi indexing my solution was to create a sub dataframe eg extract the 'close' data (only) into a new DF that eliminated the multi level.\n",
    "2) Figures that were as a string I cleaned the required data by copying the column, stripping any non numericals and converting the remaining numbers to float into a new column.\n",
    "\n",
    "My main graph was all tickers plotted as a HVplot showing annual return against its volatility measured  as annualised standard deviation. The volatility reduced to a series data\n",
    "which I manipulated into a dataframe and adjusted headers to allow it to be merged into the final graph dataframe.\n",
    "\n",
    "Another challenge of our project was a time limit for data presentation. My graphs used large data to produce and the main graph required pulling a years data from the entire ASX of over 2100 tickers. My solution to creating a quick but detailed graph was to pull the required data from the API, manipulate it into a final dataframe that is appropriate for the graph then extracted that dataframe into a csv, stored in our resources folder and subsequently commented out all code from the API pull to completing the dataframe inclusive. The graph is now sourced via a read_csv command.\n"
   ]
  }
 ],
 "metadata": {
  "language_info": {
   "name": "python"
  },
  "orig_nbformat": 4
 },
 "nbformat": 4,
 "nbformat_minor": 2
}
